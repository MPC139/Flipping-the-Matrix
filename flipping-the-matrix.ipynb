{
 "cells": [
  {
   "cell_type": "markdown",
   "id": "6510e58e",
   "metadata": {},
   "source": [
    "# Flipping the Matrix\n",
    "Here is the code to solve this HackerRank problem. It's just for help people to improve programing skills.\n",
    "https://www.hackerrank.com/challenges/flipping-the-matrix/problem"
   ]
  },
  {
   "cell_type": "code",
   "execution_count": 384,
   "id": "4ff04369",
   "metadata": {},
   "outputs": [],
   "source": [
    "def flippingMatrix(matrix):\n",
    "    result= 0\n",
    "    A = []\n",
    "    for k,l in enumerate(range(1,(2*n),2)):\n",
    "        for x,y in enumerate(range(1,(2*n),2)):\n",
    "            for i in range(k,(2*n)-k,(2*n)-l):\n",
    "                for j in range(x,(2*n)-x,(2*n)-y):\n",
    "                    A.append(matrix[i][j])\n",
    "    for x in range(0,len(A),4):\n",
    "        result+=max(A[x:x+4])\n",
    "    return result"
   ]
  },
  {
   "cell_type": "code",
   "execution_count": 383,
   "id": "463f25aa",
   "metadata": {},
   "outputs": [
    {
     "name": "stdout",
     "output_type": "stream",
     "text": [
      "1\n",
      "2\n",
      "112 42 83 119\n",
      "56 125 56 49\n",
      "15 78 101 43\n",
      "62 98 114 108\n",
      "414\n"
     ]
    }
   ],
   "source": [
    "    q = int(input().strip())\n",
    "\n",
    "    for q_itr in range(q):\n",
    "        n = int(input().strip())\n",
    "\n",
    "        matrix = []\n",
    "\n",
    "        for _ in range(2 * n):\n",
    "            matrix.append(list(map(int, input().rstrip().split())))\n",
    "\n",
    "        result = flippingMatrix(matrix)\n",
    "\n",
    "        print(result)"
   ]
  },
  {
   "cell_type": "markdown",
   "id": "91eca6a0",
   "metadata": {},
   "source": [
    "#### List Comprehensions alternative"
   ]
  },
  {
   "cell_type": "code",
   "execution_count": 380,
   "id": "ce9749fa",
   "metadata": {},
   "outputs": [],
   "source": [
    "def flippingMatrix(matrix):\n",
    "    B =[matrix[i][j] for k,l in enumerate(range(1,(2*n),2)) for x,y in enumerate(range(1,(2*n),2)) for i in range(k,(2*n)-k,(2*n)-l) for j in range(x,(2*n)-x,(2*n)-y)]\n",
    "    B = sum([max(B[x:x+4]) for x in range(0,len(B),4)])\n",
    "    return B"
   ]
  },
  {
   "cell_type": "code",
   "execution_count": null,
   "id": "78693a7c",
   "metadata": {},
   "outputs": [],
   "source": []
  }
 ],
 "metadata": {
  "kernelspec": {
   "display_name": "Python 3 (ipykernel)",
   "language": "python",
   "name": "python3"
  },
  "language_info": {
   "codemirror_mode": {
    "name": "ipython",
    "version": 3
   },
   "file_extension": ".py",
   "mimetype": "text/x-python",
   "name": "python",
   "nbconvert_exporter": "python",
   "pygments_lexer": "ipython3",
   "version": "3.9.12"
  }
 },
 "nbformat": 4,
 "nbformat_minor": 5
}
